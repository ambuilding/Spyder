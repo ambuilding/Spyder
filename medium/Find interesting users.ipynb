{
 "cells": [
  {
   "cell_type": "code",
   "execution_count": 1,
   "metadata": {
    "collapsed": true
   },
   "outputs": [],
   "source": [
    "import csv\n",
    "import json\n",
    "import click\n",
    "import requests\n",
    "from time import sleep\n",
    "from datetime import datetime, timedelta"
   ]
  },
  {
   "cell_type": "code",
   "execution_count": 2,
   "metadata": {
    "collapsed": true
   },
   "outputs": [],
   "source": [
    "proxies = {\n",
    "    'http': \"socks5://127.0.0.1:1080\",\n",
    "    'https': \"socks5://127.0.0.1:1080\",\n",
    "}"
   ]
  },
  {
   "cell_type": "code",
   "execution_count": 3,
   "metadata": {
    "collapsed": true
   },
   "outputs": [],
   "source": [
    "def get_response(url):\n",
    "    return requests.get(url, proxies=proxies)"
   ]
  },
  {
   "cell_type": "code",
   "execution_count": 4,
   "metadata": {
    "collapsed": true
   },
   "outputs": [],
   "source": [
    "MEDIUM = 'https://medium.com'"
   ]
  },
  {
   "cell_type": "code",
   "execution_count": 5,
   "metadata": {
    "collapsed": true
   },
   "outputs": [],
   "source": [
    "# clean ])}while(1);</x> up and turn the JSON into a Python dictionary.\n",
    "def clean_json_from(response):\n",
    "    return json.loads(response.text.replace('])}while(1);</x>', '', 1))"
   ]
  },
  {
   "cell_type": "code",
   "execution_count": 6,
   "metadata": {
    "collapsed": true
   },
   "outputs": [],
   "source": [
    "def fetch_user_id_by(username):\n",
    "    print('Retrieving user ID...')\n",
    "\n",
    "    url = MEDIUM + '/@' + username + '?format=json'\n",
    "    response = get_response(url)\n",
    "    response_dict = clean_json_from(response)\n",
    "    user_id = response_dict['payload']['user']['userId']\n",
    "\n",
    "    return user_id"
   ]
  },
  {
   "cell_type": "code",
   "execution_count": 7,
   "metadata": {
    "scrolled": false
   },
   "outputs": [
    {
     "name": "stdout",
     "output_type": "stream",
     "text": [
      "Retrieving user ID...\n"
     ]
    }
   ],
   "source": [
    "user_id = fetch_user_id_by('explorewo')"
   ]
  },
  {
   "cell_type": "code",
   "execution_count": 8,
   "metadata": {},
   "outputs": [
    {
     "data": {
      "text/plain": [
       "'5a2e47aa48be'"
      ]
     },
     "execution_count": 8,
     "metadata": {},
     "output_type": "execute_result"
    }
   ],
   "source": [
    "user_id"
   ]
  },
  {
   "cell_type": "code",
   "execution_count": 9,
   "metadata": {
    "collapsed": true
   },
   "outputs": [],
   "source": [
    "def fetch_following_usernames_by(user_id):\n",
    "    print('Retrieving usernames from Followings...')\n",
    "\n",
    "    next_id = False\n",
    "    usernames = []\n",
    "\n",
    "    while True:\n",
    "        if next_id:\n",
    "            # If this is not the first page of the followings list\n",
    "            url = MEDIUM + '/_/api/users/' + user_id + '/following?limit=8&to=' + next_id\n",
    "        else:\n",
    "            # If this is the first page of the followings list\n",
    "            url = MEDIUM + '/_/api/users/' + user_id + '/following'\n",
    "\n",
    "        response = get_response(url)\n",
    "        response_dict = clean_json_from(response)\n",
    "        payload = response_dict['payload']\n",
    "\n",
    "        for user in payload['value']:\n",
    "            usernames.append(user['username'])\n",
    "\n",
    "        try:\n",
    "            # If the \"to\" key is missing, we've reached the end\n",
    "            # of the list and an exception is thrown\n",
    "            next_id = payload['paging']['next']['to']\n",
    "        except:\n",
    "            break\n",
    "\n",
    "    return usernames"
   ]
  },
  {
   "cell_type": "code",
   "execution_count": 10,
   "metadata": {},
   "outputs": [
    {
     "name": "stdout",
     "output_type": "stream",
     "text": [
      "Retrieving usernames from Followings...\n"
     ]
    }
   ],
   "source": [
    "c = fetch_following_usernames_by(user_id)"
   ]
  },
  {
   "cell_type": "code",
   "execution_count": 20,
   "metadata": {
    "collapsed": true
   },
   "outputs": [],
   "source": [
    "# Add list of interesting users to the interesting_users.csv and add a timestamp\n",
    "def store_to_csv_0(a_list, file_name):\n",
    "    with open(file_name+'.csv', 'a') as file:\n",
    "        writer = csv.writer(file)\n",
    "#         now = datetime.now().strftime('%Y-%m-%d %H:%M:%S')\n",
    "#         list.insert(0, now)\n",
    "        writer.writerow(a_list)"
   ]
  },
  {
   "cell_type": "code",
   "execution_count": 14,
   "metadata": {
    "collapsed": true
   },
   "outputs": [],
   "source": [
    "store_to_csv_0(following_usernames, 'following_usernames')"
   ]
  },
  {
   "cell_type": "code",
   "execution_count": 15,
   "metadata": {},
   "outputs": [
    {
     "data": {
      "text/plain": [
       "['Stanford', 'dzungnguyen.hcm', 'quincylarson']"
      ]
     },
     "execution_count": 15,
     "metadata": {},
     "output_type": "execute_result"
    }
   ],
   "source": [
    "following_usernames[:3]"
   ]
  },
  {
   "cell_type": "code",
   "execution_count": 16,
   "metadata": {
    "collapsed": true
   },
   "outputs": [],
   "source": [
    "def fetch_latest_post_ids_by(usernames):\n",
    "    print('Retrieving the latest posts...')\n",
    "\n",
    "    post_ids = []\n",
    "    for username in usernames:\n",
    "        url = MEDIUM + '/@' + username + '/latest?format=json'\n",
    "        response = get_response(url)\n",
    "        response_dict = clean_json_from(response)\n",
    "\n",
    "        try:\n",
    "            posts = response_dict['payload']['references']['Post']\n",
    "        except:\n",
    "            posts = []\n",
    "\n",
    "        if posts:\n",
    "            for key in posts.keys():\n",
    "                post_ids.append(posts[key]['id'])\n",
    "\n",
    "    return post_ids"
   ]
  },
  {
   "cell_type": "code",
   "execution_count": 17,
   "metadata": {
    "scrolled": false
   },
   "outputs": [
    {
     "name": "stdout",
     "output_type": "stream",
     "text": [
      "Retrieving the latest posts...\n"
     ]
    }
   ],
   "source": [
    "post_ids = fetch_latest_post_ids_by(following_usernames)"
   ]
  },
  {
   "cell_type": "code",
   "execution_count": 18,
   "metadata": {},
   "outputs": [
    {
     "data": {
      "text/plain": [
       "['239fdc841f06', 'bffd2ee9efc', 'd23dd6b6f08b']"
      ]
     },
     "execution_count": 18,
     "metadata": {},
     "output_type": "execute_result"
    }
   ],
   "source": [
    "len(post_ids)\n",
    "post_ids[:3]"
   ]
  },
  {
   "cell_type": "code",
   "execution_count": 21,
   "metadata": {
    "collapsed": true
   },
   "outputs": [],
   "source": [
    "store_to_csv_0(post_ids, 'post_ids')"
   ]
  },
  {
   "cell_type": "code",
   "execution_count": 22,
   "metadata": {
    "collapsed": true
   },
   "outputs": [],
   "source": [
    "def fetch_responses_of_each_post_by(post_ids):\n",
    "    print('Retrieving the post responses...')\n",
    "\n",
    "    responses = []\n",
    "#     temp_dict = {}\n",
    "    for post_id in post_ids:\n",
    "        url = MEDIUM + '/_/api/posts/' + post_id + '/responses'\n",
    "        response = get_response(url)\n",
    "        response_dict = clean_json_from(response)\n",
    "        \n",
    "        value = response_dict['payload']['value']\n",
    "        if not value:\n",
    "            continue\n",
    "        else:\n",
    "             value = value[0]   \n",
    "        \n",
    "#         temp_dict['created_at'] = value['createdAt']\n",
    "#         temp_dict['recommends'] = value['virtuals']['recommends']\n",
    "#         temp_dict['creatorId'] = value['creatorId']\n",
    "        \n",
    "#         responses.append(temp_dict)\n",
    "        \n",
    "        responses.append(dict(created_at=value['createdAt'], \n",
    "                       recommends=value['virtuals']['recommends'], \n",
    "                       creatorId=value['creatorId']))\n",
    "        \n",
    "        #responses += response_dict['payload']['value']\n",
    "        sleep(0.5) # This is the most intensive operation for the Medium servers\n",
    "\n",
    "    return responses"
   ]
  },
  {
   "cell_type": "code",
   "execution_count": 23,
   "metadata": {
    "scrolled": true
   },
   "outputs": [
    {
     "name": "stdout",
     "output_type": "stream",
     "text": [
      "Retrieving the post responses...\n"
     ]
    }
   ],
   "source": [
    "post_responses = fetch_responses_of_each_post_by(post_ids)"
   ]
  },
  {
   "cell_type": "code",
   "execution_count": 28,
   "metadata": {
    "scrolled": true
   },
   "outputs": [
    {
     "data": {
      "text/plain": [
       "{'created_at': 1524963770759, 'creatorId': '4b0b0e57293d', 'recommends': 0}"
      ]
     },
     "execution_count": 28,
     "metadata": {},
     "output_type": "execute_result"
    }
   ],
   "source": [
    "post_responses[0]"
   ]
  },
  {
   "cell_type": "code",
   "execution_count": 25,
   "metadata": {
    "collapsed": true
   },
   "outputs": [],
   "source": [
    "store_to_csv_0(post_responses, 'post_responses')"
   ]
  },
  {
   "cell_type": "code",
   "execution_count": 34,
   "metadata": {
    "collapsed": true
   },
   "outputs": [],
   "source": [
    "def is_high_recommend(response, recommend_min):\n",
    "    if response['recommends'] >= recommend_min:\n",
    "        return True\n"
   ]
  },
  {
   "cell_type": "code",
   "execution_count": 35,
   "metadata": {
    "collapsed": true
   },
   "outputs": [],
   "source": [
    "def is_recent(response):\n",
    "    limit_date = datetime.now() - timedelta(days=30)\n",
    "    created_at = response['created_at'] / 1000\n",
    "    create_date = datetime.fromtimestamp(created_at)\n",
    "\n",
    "    if create_date >= limit_date:\n",
    "        return True"
   ]
  },
  {
   "cell_type": "code",
   "execution_count": 36,
   "metadata": {},
   "outputs": [
    {
     "data": {
      "text/plain": [
       "('4b0b0e57293d', 0, 1524963770.759)"
      ]
     },
     "execution_count": 36,
     "metadata": {},
     "output_type": "execute_result"
    }
   ],
   "source": [
    "resp = post_responses[0]\n",
    "resp['creatorId'], resp['recommends'], resp['created_at'] / 1000"
   ]
  },
  {
   "cell_type": "code",
   "execution_count": 37,
   "metadata": {
    "collapsed": true
   },
   "outputs": [],
   "source": [
    "def fetch_user_ids_from(responses, recommend_min):\n",
    "    print('Retrieving user IDs from the responses...')\n",
    "\n",
    "    user_ids = []\n",
    "    for response in responses:\n",
    "        recent = is_recent(response)\n",
    "        high = is_high_recommend(response, recommend_min)\n",
    "\n",
    "        if recent and high:\n",
    "            user_ids.append(response['creatorId'])\n",
    "\n",
    "    return user_ids"
   ]
  },
  {
   "cell_type": "code",
   "execution_count": 38,
   "metadata": {},
   "outputs": [
    {
     "name": "stdout",
     "output_type": "stream",
     "text": [
      "Retrieving user IDs from the responses...\n"
     ]
    }
   ],
   "source": [
    "user_ids = fetch_user_ids_from(post_responses, 1)"
   ]
  },
  {
   "cell_type": "code",
   "execution_count": 39,
   "metadata": {},
   "outputs": [
    {
     "data": {
      "text/plain": [
       "['b0d99ee145a2', '1304e27c5729', 'c4a45bce0bc1']"
      ]
     },
     "execution_count": 39,
     "metadata": {},
     "output_type": "execute_result"
    }
   ],
   "source": [
    "user_ids"
   ]
  },
  {
   "cell_type": "code",
   "execution_count": 42,
   "metadata": {
    "collapsed": true
   },
   "outputs": [],
   "source": [
    "def fetch_usernames_by(user_ids):\n",
    "    print('Retrieving usernames of interesting users...')\n",
    "\n",
    "    usernames = []\n",
    "    for user_id in user_ids:\n",
    "        url = MEDIUM + '/_/api/users/' + user_id\n",
    "        response = get_response(url)\n",
    "        response_dict = clean_json_from(response)\n",
    "        payload = response_dict['payload']\n",
    "        usernames.append(payload['value']['username'])\n",
    "\n",
    "    return usernames"
   ]
  },
  {
   "cell_type": "code",
   "execution_count": 43,
   "metadata": {},
   "outputs": [
    {
     "name": "stdout",
     "output_type": "stream",
     "text": [
      "Retrieving usernames of interesting users...\n"
     ]
    },
    {
     "data": {
      "text/plain": [
       "['thalesfrigo', 'maicon_wagner', 'andrejglauser']"
      ]
     },
     "execution_count": 43,
     "metadata": {},
     "output_type": "execute_result"
    }
   ],
   "source": [
    "fetch_usernames_by(user_ids)"
   ]
  },
  {
   "cell_type": "code",
   "execution_count": 44,
   "metadata": {
    "collapsed": true
   },
   "outputs": [],
   "source": [
    "# Add list of interesting users to the interesting_users.csv and add a timestamp\n",
    "def store_to_csv(interesting_users_list):\n",
    "    with open('interesting_users.csv', 'a') as file:\n",
    "        writer = csv.writer(file)\n",
    "        now = datetime.now().strftime('%Y-%m-%d %H:%M:%S')\n",
    "        interesting_users_list.insert(0, now)\n",
    "        writer.writerow(interesting_users_list)"
   ]
  },
  {
   "cell_type": "code",
   "execution_count": 45,
   "metadata": {
    "collapsed": true
   },
   "outputs": [],
   "source": [
    "store_to_csv(['thalesfrigo', 'maicon_wagner', 'andrejglauser'])"
   ]
  },
  {
   "cell_type": "code",
   "execution_count": 36,
   "metadata": {
    "collapsed": true
   },
   "outputs": [],
   "source": [
    "# put them all together\n",
    "def fetch_interesting_users_by(username, recommend_min):\n",
    "    print('Looking for interesting users for %s...' % username)\n",
    "\n",
    "    user_id = fetch_user_id_by(username)\n",
    "    following_usernames = fetch_following_usernames_by(user_id)\n",
    "    post_ids = fetch_latest_post_ids_by(following_usernames)\n",
    "    post_responses = fetch_responses_of_each_post_by(post_ids)\n",
    "    user_ids = fetch_user_ids_from(post_responses, recommend_min)\n",
    "\n",
    "    return fetch_usernames_by(user_ids)"
   ]
  },
  {
   "cell_type": "code",
   "execution_count": null,
   "metadata": {
    "collapsed": true
   },
   "outputs": [],
   "source": []
  }
 ],
 "metadata": {
  "kernelspec": {
   "display_name": "Python 3",
   "language": "python",
   "name": "python3"
  },
  "language_info": {
   "codemirror_mode": {
    "name": "ipython",
    "version": 3
   },
   "file_extension": ".py",
   "mimetype": "text/x-python",
   "name": "python",
   "nbconvert_exporter": "python",
   "pygments_lexer": "ipython3",
   "version": "3.6.3"
  }
 },
 "nbformat": 4,
 "nbformat_minor": 2
}
